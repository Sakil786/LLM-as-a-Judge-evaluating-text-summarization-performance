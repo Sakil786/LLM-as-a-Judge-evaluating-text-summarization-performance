{
  "nbformat": 4,
  "nbformat_minor": 0,
  "metadata": {
    "colab": {
      "provenance": []
    },
    "kernelspec": {
      "name": "python3",
      "display_name": "Python 3"
    },
    "language_info": {
      "name": "python"
    }
  },
  "cells": [
    {
      "cell_type": "code",
      "execution_count": null,
      "metadata": {
        "id": "tnztL9uUPLdS"
      },
      "outputs": [],
      "source": [
        "\n",
        "! pip install langgraph langchain-community pypdf faiss-cpu sentence-transformers langchain-groq"
      ]
    },
    {
      "cell_type": "code",
      "source": [
        "from dotenv import load_dotenv\n",
        "load_dotenv()"
      ],
      "metadata": {
        "colab": {
          "base_uri": "https://localhost:8080/"
        },
        "id": "8UnWxgBSPMk2",
        "outputId": "7a6ffa70-da06-473e-90b1-37e8d67efeca"
      },
      "execution_count": 1,
      "outputs": [
        {
          "output_type": "execute_result",
          "data": {
            "text/plain": [
              "True"
            ]
          },
          "metadata": {},
          "execution_count": 1
        }
      ]
    },
    {
      "cell_type": "code",
      "source": [],
      "metadata": {
        "id": "Yb8rx2BIPMqs"
      },
      "execution_count": 14,
      "outputs": []
    },
    {
      "cell_type": "code",
      "source": [],
      "metadata": {
        "id": "FVy4VX0xPMv-"
      },
      "execution_count": 14,
      "outputs": []
    },
    {
      "cell_type": "code",
      "source": [
        "\n",
        "from langchain.prompts import PromptTemplate\n",
        "from langchain.schema import HumanMessage\n",
        "import os\n",
        "from langchain_groq import ChatGroq\n",
        "# # Set up API keys\n",
        "# os.environ[\"GROQ_API_KEY\"] = \"groq_api_key\"\n",
        "def summarize_text(text):\n",
        "    \"\"\"Generate a summary using an LLM.\"\"\"\n",
        "    prompt = PromptTemplate.from_template(\n",
        "        \"\"\"\n",
        "        Summarize the following text in a concise and clear manner:\n",
        "\n",
        "        {text}\n",
        "        \"\"\"\n",
        "    )\n",
        "\n",
        "    llm = ChatGroq(temperature=0, model_name=\"gemma2-9b-it\")\n",
        "    summary = llm.invoke(prompt.format(text=text))\n",
        "    return summary.content\n",
        "\n",
        "\n",
        "def evaluate_summary(original_text, summary):\n",
        "    \"\"\"Use an LLM as a judge to evaluate the quality of the summary.\"\"\"\n",
        "    prompt = PromptTemplate.from_template(\n",
        "        \"\"\"\n",
        "        Given the original text and its summary, evaluate the summary based on:\n",
        "        - Relevance: Does it capture the key points?\n",
        "        - Coherence: Is it logically structured?\n",
        "        - Fluency: Is the language natural and clear?\n",
        "\n",
        "        Original Text:\n",
        "        {original_text}\n",
        "\n",
        "        Summary:\n",
        "        {summary}\n",
        "\n",
        "        Provide a score (1-10) for each criterion and a brief justification.\n",
        "        \"\"\"\n",
        "    )\n",
        "\n",
        "    llm = ChatGroq(temperature=0, model_name=\"gemma2-9b-it\")\n",
        "    evaluation = llm.invoke(prompt.format(original_text=original_text, summary=summary))\n",
        "    return evaluation.content\n",
        "\n"
      ],
      "metadata": {
        "id": "3J9xT50JPM79"
      },
      "execution_count": 2,
      "outputs": []
    },
    {
      "cell_type": "code",
      "source": [
        "if __name__ == \"__main__\":\n",
        "    text = \"\"\"Machine learning is a branch of artificial intelligence (AI) that focuses on building systems that learn from and make decisions based on data. It is widely used in various industries, including healthcare, finance, and technology, for applications such as predictive analytics, fraud detection, and natural language processing.\"\"\"\n",
        "    print(\"Generating Summary...\")\n",
        "    summary = summarize_text(text)\n",
        "    print(\"Summary:\", summary)\n",
        "\n",
        "    print(\"\\nEvaluating Summary...\")\n",
        "    evaluation = evaluate_summary(text, summary)\n",
        "    print(\"Evaluation:\", evaluation)"
      ],
      "metadata": {
        "colab": {
          "base_uri": "https://localhost:8080/"
        },
        "id": "e0psmz5GPP68",
        "outputId": "f6c6cb51-4965-4b41-a8fa-1ad8558ad997"
      },
      "execution_count": 3,
      "outputs": [
        {
          "output_type": "stream",
          "name": "stdout",
          "text": [
            "Generating Summary...\n",
            "Summary: Machine learning is a type of artificial intelligence that enables computers to learn from data and make decisions.  It's used in many fields like healthcare and finance for tasks like predicting outcomes, identifying fraud, and understanding language. \n",
            "\n",
            "\n",
            "Evaluating Summary...\n",
            "Evaluation: Here's an evaluation of the summary:\n",
            "\n",
            "* **Relevance (9/10):** The summary accurately captures the key points of the original text. It mentions machine learning as a subset of AI, its ability to learn from data and make decisions, and its applications in various industries. \n",
            "\n",
            "* **Coherence (8/10):** The summary is logically structured. It starts by defining machine learning, then explains its function, and finally provides examples of its applications. \n",
            "\n",
            "* **Fluency (9/10):** The language is natural and clear. The sentences are concise and easy to understand.\n",
            "\n",
            "\n",
            "**Overall:** The summary is a good representation of the original text. It is concise, accurate, and well-written. \n",
            "\n"
          ]
        }
      ]
    },
    {
      "cell_type": "code",
      "source": [
        "\n",
        "from langchain.prompts import PromptTemplate\n",
        "from langchain.schema import HumanMessage\n",
        "import os\n",
        "import langgraph\n",
        "from langgraph.graph import StateGraph\n",
        "from typing import TypedDict\n",
        "\n",
        "\n",
        "# Define state schema\n",
        "class AgentState(TypedDict):\n",
        "    text: str\n",
        "    summary: str\n",
        "    evaluation: str\n",
        "\n",
        "# Define agent functions\n",
        "def summarize_text(state: AgentState) -> AgentState:\n",
        "    \"\"\"Generate a summary using an LLM.\"\"\"\n",
        "    prompt = PromptTemplate.from_template(\n",
        "        \"\"\"\n",
        "        Summarize the following text in a concise and clear manner:\n",
        "\n",
        "        {text}\n",
        "        \"\"\"\n",
        "    )\n",
        "\n",
        "    llm = ChatGroq(temperature=0, model_name=\"gemma2-9b-it\")\n",
        "    summary = llm.invoke(prompt.format(text=state[\"text\"]))\n",
        "    return {\"text\": state[\"text\"], \"summary\": summary.content, \"evaluation\": \"\"}\n",
        "\n",
        "\n",
        "def evaluate_summary(state: AgentState) -> AgentState:\n",
        "    \"\"\"Use an LLM as a judge to evaluate the quality of the summary.\"\"\"\n",
        "    prompt = PromptTemplate.from_template(\n",
        "        \"\"\"\n",
        "        Given the original text and its summary, evaluate the summary based on:\n",
        "        - Relevance: Does it capture the key points?\n",
        "        - Coherence: Is it logically structured?\n",
        "        - Fluency: Is the language natural and clear?\n",
        "\n",
        "        Original Text:\n",
        "        {original_text}\n",
        "\n",
        "        Summary:\n",
        "        {summary}\n",
        "\n",
        "        Provide a score (1-10) for each criterion and a brief justification.\n",
        "        \"\"\"\n",
        "    )\n",
        "\n",
        "    llm = ChatGroq(temperature=0, model_name=\"gemma2-9b-it\")\n",
        "    evaluation = llm.invoke(prompt.format(original_text=state[\"text\"], summary=state[\"summary\"]))\n",
        "    return {\"text\": state[\"text\"], \"summary\": state[\"summary\"], \"evaluation\": evaluation.content}\n",
        "\n",
        "# Define agent graph\n",
        "workflow = StateGraph(AgentState)\n",
        "workflow.add_node(\"summarize\", summarize_text)\n",
        "workflow.add_node(\"evaluate\", evaluate_summary)\n",
        "\n",
        "workflow.set_entry_point(\"summarize\")\n",
        "workflow.add_edge(\"summarize\", \"evaluate\")\n",
        "\n",
        "agent = workflow.compile()\n",
        "\n"
      ],
      "metadata": {
        "id": "p_LECdlzQa_p"
      },
      "execution_count": 4,
      "outputs": []
    },
    {
      "cell_type": "code",
      "source": [
        "# ! pip install pygraphviz pyppeteer\n",
        "from graphviz import Source\n",
        "from IPython.display import Image, display"
      ],
      "metadata": {
        "id": "ENXVsVxvUNJj"
      },
      "execution_count": 5,
      "outputs": []
    },
    {
      "cell_type": "code",
      "source": [
        "# Visualize the Graph (Optional)\n",
        "from IPython.display import Image, display\n",
        "try:\n",
        "    display(Image(agent.get_graph().draw_mermaid_png()))\n",
        "except Exception:\n",
        "    pass"
      ],
      "metadata": {
        "colab": {
          "base_uri": "https://localhost:8080/",
          "height": 251
        },
        "id": "ahbpDHF_UH1L",
        "outputId": "0390fde1-bb5a-430a-cb6b-2edbe2d8a787"
      },
      "execution_count": 7,
      "outputs": [
        {
          "output_type": "display_data",
          "data": {
            "image/png": "[encoded data removed]",
            "text/plain": [
              "<IPython.core.display.Image object>"
            ]
          },
          "metadata": {}
        }
      ]
    },
    {
      "cell_type": "code",
      "source": [
        "if __name__ == \"__main__\":\n",
        "    text = \"\"\"Machine learning is a branch of artificial intelligence (AI) that focuses on building systems that learn from and make decisions based on data. It is widely used in various industries, including healthcare, finance, and technology, for applications such as predictive analytics, fraud detection, and natural language processing.\"\"\"\n",
        "\n",
        "    print(\"Running Agent...\")\n",
        "    result = agent.invoke({\"text\": text, \"summary\": \"\", \"evaluation\": \"\"})\n",
        "\n",
        "    print(\"\\nSummary:\", result[\"summary\"])\n",
        "    print(\"\\nEvaluation:\", result[\"evaluation\"])\n",
        "    # Visualize the Graph (Optional)\n",
        "# Visualize the Graph (Optional)\n"
      ],
      "metadata": {
        "colab": {
          "base_uri": "https://localhost:8080/"
        },
        "id": "ICk44po4Si61",
        "outputId": "dde76b71-dbff-45ea-ee91-db16199b77c8"
      },
      "execution_count": 8,
      "outputs": [
        {
          "output_type": "stream",
          "name": "stdout",
          "text": [
            "Running Agent...\n",
            "\n",
            "Summary: Machine learning is a type of artificial intelligence that enables computers to learn from data and make decisions.  It's used in many fields like healthcare and finance for tasks like predicting outcomes, identifying fraud, and understanding language. \n",
            "\n",
            "\n",
            "Evaluation: Here's an evaluation of the summary:\n",
            "\n",
            "* **Relevance (9/10):** The summary accurately captures the key points of the original text. It mentions machine learning as a subset of AI, its ability to learn from data and make decisions, and its applications in various industries. \n",
            "\n",
            "* **Coherence (8/10):** The summary is logically structured. It starts by defining machine learning, then explains its function, and finally provides examples of its applications. \n",
            "\n",
            "* **Fluency (9/10):** The language is natural and clear. The sentences are concise and easy to understand.\n",
            "\n",
            "\n",
            "**Overall:** The summary is a good representation of the original text. It is concise, accurate, and well-written. \n",
            "\n"
          ]
        }
      ]
    },
    {
      "cell_type": "code",
      "source": [],
      "metadata": {
        "id": "9PL-wKxOpMnk"
      },
      "execution_count": null,
      "outputs": []
    },
    {
      "cell_type": "code",
      "source": [],
      "metadata": {
        "id": "TBKGBfeUqGE_"
      },
      "execution_count": null,
      "outputs": []
    },
    {
      "cell_type": "code",
      "source": [
        "\n",
        "from langchain.prompts import PromptTemplate\n",
        "from langchain.schema import HumanMessage\n",
        "import os\n",
        "import langgraph\n",
        "from langgraph.graph import StateGraph\n",
        "from typing import TypedDict\n",
        "from IPython.display import Image, display\n",
        "from graphviz import Source\n",
        "import re\n",
        "from langchain_groq import ChatGroq\n",
        "\n",
        "\n",
        "# Define state schema\n",
        "class AgentState(TypedDict):\n",
        "    text: str\n",
        "    summary: str\n",
        "    evaluation: str\n",
        "    next_step: str\n",
        "    retries: int\n",
        "\n",
        "MAX_RETRIES = 3  # Limit the number of retries\n",
        "\n",
        "# Define agent functions\n",
        "def summarize_text(state: AgentState) -> AgentState:\n",
        "    \"\"\"Generate a summary using an LLM.\"\"\"\n",
        "    prompt = PromptTemplate.from_template(\n",
        "        \"\"\"\n",
        "        Summarize the following text in a concise and clear manner:\n",
        "\n",
        "        {text}\n",
        "        \"\"\"\n",
        "    )\n",
        "\n",
        "    llm = ChatGroq(temperature=0, model_name=\"gemma2-9b-it\")\n",
        "    summary = llm.invoke(prompt.format(text=state[\"text\"]))\n",
        "    return {\"text\": state[\"text\"], \"summary\": summary.content, \"evaluation\": \"\", \"next_step\": \"\", \"retries\": state[\"retries\"]}\n",
        "\n",
        "\n",
        "def evaluate_summary(state: AgentState) -> AgentState:\n",
        "    \"\"\"Use an LLM as a judge to evaluate the quality of the summary.\"\"\"\n",
        "    prompt = PromptTemplate.from_template(\n",
        "        \"\"\"\n",
        "        Given the original text and its summary, evaluate the summary based on:\n",
        "        - Relevance: Does it capture the key points?\n",
        "        - Coherence: Is it logically structured?\n",
        "        - Fluency: Is the language natural and clear?\n",
        "\n",
        "        Original Text:\n",
        "        {original_text}\n",
        "\n",
        "        Summary:\n",
        "        {summary}\n",
        "\n",
        "        Provide a score (1-10) for each criterion and a brief justification.\n",
        "        \"\"\"\n",
        "    )\n",
        "\n",
        "    llm = ChatGroq(temperature=0, model_name=\"gemma2-9b-it\")\n",
        "    evaluation = llm.invoke(prompt.format(original_text=state[\"text\"], summary=state[\"summary\"]))\n",
        "    return {\"text\": state[\"text\"], \"summary\": state[\"summary\"], \"evaluation\": evaluation.content, \"next_step\": \"\", \"retries\": state[\"retries\"]}\n",
        "\n",
        "\n",
        "def decide_next_step(state: AgentState) -> AgentState:\n",
        "    \"\"\"Check evaluation scores and decide whether to retry or finish.\"\"\"\n",
        "    evaluation_text = state[\"evaluation\"]\n",
        "    scores = {\n",
        "        \"relevance\": 0,\n",
        "        \"coherence\": 0,\n",
        "        \"fluency\": 0,\n",
        "    }\n",
        "\n",
        "    # Extract numerical scores using regex\n",
        "    matches = re.findall(r\"(Relevance|Coherence|Fluency):\\s*(\\d+)\", evaluation_text, re.IGNORECASE)\n",
        "    for category, score in matches:\n",
        "        scores[category.lower()] = int(score)\n",
        "\n",
        "    # If any score is below 7 and retries are left, retry summarization\n",
        "    if any(score < 7 for score in scores.values()) and state[\"retries\"] < MAX_RETRIES:\n",
        "        next_step = \"summarize\"\n",
        "        retries = state[\"retries\"] + 1\n",
        "    else:\n",
        "        next_step = \"terminate\"\n",
        "        retries = state[\"retries\"]\n",
        "\n",
        "    return {\"text\": state[\"text\"], \"summary\": state[\"summary\"], \"evaluation\": state[\"evaluation\"], \"next_step\": next_step, \"retries\": retries}\n",
        "\n",
        "\n",
        "def terminate_process(state: AgentState) -> AgentState:\n",
        "    \"\"\"Final termination state.\"\"\"\n",
        "    return state\n",
        "\n",
        "# Define agent graph\n",
        "workflow = StateGraph(AgentState)\n",
        "workflow.add_node(\"summarize\", summarize_text)\n",
        "workflow.add_node(\"evaluate\", evaluate_summary)\n",
        "workflow.add_node(\"decide\", decide_next_step)\n",
        "workflow.add_node(\"terminate\", terminate_process)\n",
        "\n",
        "workflow.set_entry_point(\"summarize\")\n",
        "workflow.add_edge(\"summarize\", \"evaluate\")\n",
        "workflow.add_edge(\"evaluate\", \"decide\")\n",
        "workflow.add_conditional_edges(\"decide\", lambda state: state[\"next_step\"], {\"summarize\": \"summarize\", \"terminate\": \"terminate\"})\n",
        "\n",
        "agent = workflow.compile()\n",
        "\n"
      ],
      "metadata": {
        "id": "Ifg6ae3drrF_"
      },
      "execution_count": 2,
      "outputs": []
    },
    {
      "cell_type": "code",
      "source": [
        "# Visualize the Graph (Optional)\n",
        "from IPython.display import Image, display\n",
        "try:\n",
        "    display(Image(agent.get_graph().draw_mermaid_png()))\n",
        "except Exception:\n",
        "    pass"
      ],
      "metadata": {
        "colab": {
          "base_uri": "https://localhost:8080/",
          "height": 449
        },
        "id": "mpVvOmWXsuq8",
        "outputId": "5e0726c7-0d84-470d-dcd6-e09e0488ba75"
      },
      "execution_count": 3,
      "outputs": [
        {
          "output_type": "display_data",
          "data": {
            "image/png": "[encoded data removed]",
            "text/plain": [
              "<IPython.core.display.Image object>"
            ]
          },
          "metadata": {}
        }
      ]
    },
    {
      "cell_type": "code",
      "source": [
        "if __name__ == \"__main__\":\n",
        "    text = \"\"\"Machine learning is a branch of artificial intelligence (AI) that focuses on building systems that learn from and make decisions based on data. It is widely used in various industries, including healthcare, finance, and technology, for applications such as predictive analytics, fraud detection, and natural language processing.\"\"\"\n",
        "\n",
        "    print(\"Running Agent...\")\n",
        "    result = agent.invoke({\"text\": text, \"summary\": \"\", \"evaluation\": \"\", \"next_step\": \"\", \"retries\": 0})\n",
        "\n",
        "    print(\"\\nSummary:\", result[\"summary\"])\n",
        "    print(\"\\nEvaluation:\", result[\"evaluation\"])\n",
        ""
      ],
      "metadata": {
        "colab": {
          "base_uri": "https://localhost:8080/"
        },
        "id": "Ccll93LlsmHq",
        "outputId": "0d996b52-4dff-4c23-946e-a17eadd52ef9"
      },
      "execution_count": 5,
      "outputs": [
        {
          "output_type": "stream",
          "name": "stdout",
          "text": [
            "Running Agent...\n",
            "\n",
            "Summary: Machine learning is a type of artificial intelligence that enables computers to learn from data and make decisions.  It's used in many fields like healthcare and finance for tasks like predicting outcomes, identifying fraud, and understanding language. \n",
            "\n",
            "\n",
            "Evaluation: Here's an evaluation of the summary:\n",
            "\n",
            "* **Relevance (9/10):** The summary accurately captures the key points of the original text. It mentions machine learning as a subset of AI, its ability to learn from data and make decisions, and its applications in various industries. \n",
            "\n",
            "* **Coherence (8/10):** The summary is logically structured. It starts by defining machine learning, then explains its function, and finally provides examples of its applications. \n",
            "\n",
            "* **Fluency (9/10):** The language is natural and clear. The sentences are concise and easy to understand.\n",
            "\n",
            "\n",
            "**Overall:** The summary is a good representation of the original text. It is concise, accurate, and well-written. \n",
            "\n"
          ]
        }
      ]
    },
    {
      "cell_type": "code",
      "source": [],
      "metadata": {
        "id": "Bo3vFPqCsoMC"
      },
      "execution_count": null,
      "outputs": []
    }
  ]
}